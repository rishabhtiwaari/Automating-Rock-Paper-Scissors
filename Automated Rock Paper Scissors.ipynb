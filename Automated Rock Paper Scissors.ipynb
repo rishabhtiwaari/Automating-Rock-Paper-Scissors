{
 "cells": [
  {
   "cell_type": "markdown",
   "id": "acef45e6",
   "metadata": {},
   "source": [
    "Homework 1 - Group 9: Aidan Cremins, Spoorthi Anupuru, Rishabh Tiwari"
   ]
  },
  {
   "cell_type": "markdown",
   "id": "64d6986f",
   "metadata": {},
   "source": [
    "Question 1 - Rock, Paper, Scissors"
   ]
  },
  {
   "cell_type": "markdown",
   "id": "f523581c",
   "metadata": {},
   "source": [
    "## (-2) When the user plays 2 choices equally often, the computer should play the choice that minimizes the risk of a loss (e.g., if the user plays rock and paper equally often, the computer should play paper)"
   ]
  },
  {
   "cell_type": "code",
   "execution_count": 2,
   "id": "8401001b",
   "metadata": {},
   "outputs": [
    {
     "name": "stdout",
     "output_type": "stream",
     "text": [
      "rock, paper, or scissors?: rock\n",
      "computer:  scissors\n",
      "player:  rock\n",
      "Rock smashes Scissors, so Rock beats Scissors - You win!\n",
      "play again ? (yes/no)yes\n",
      "rock, paper, or scissors?: rock\n",
      "computer:  paper\n",
      "player:  rock\n",
      "Paper covers Rock, so Paper beats Rock - You lose!\n",
      "play again ? (yes/no)yes\n",
      "rock, paper, or scissors?: paper\n",
      "computer:  paper\n",
      "player:  paper\n",
      "Draw!\n",
      "play again ? (yes/no)yes\n",
      "rock, paper, or scissors?: paper\n",
      "computer:  paper\n",
      "player:  paper\n",
      "Draw!\n",
      "play again ? (yes/no)yes\n",
      "rock, paper, or scissors?: paper\n",
      "computer:  paper\n",
      "player:  paper\n",
      "Draw!\n",
      "play again ? (yes/no)no\n",
      "\n",
      "you have 1 wins\n",
      "computer has 1 wins\n",
      "total games played : 5\n",
      "\n",
      "------------------\n",
      "\n"
     ]
    }
   ],
   "source": [
    "import random\n",
    "'''Allows users to play rock, paper, scissors against a computer opponent. The computer opponent\n",
    "dynamically learns from past user input. Total score is kept for the user and computer.'''\n",
    "#initially making the count zero so that after every game it increases by +1\n",
    "player_score = 0\n",
    "cpu_score = 0\n",
    "game_count = 0\n",
    "\n",
    "#This is to make a count of choices made by the user \n",
    "player_history = {}\n",
    "most_freq_strategies = []\n",
    "#make a dictionary of what the computer should respond to the user's most played strategy\n",
    "strategy_dict = {'rock':'paper','scissors':'rock','paper':'scissors'} \n",
    "\n",
    "#To make sure that user plays the game on a loop until he/she quits\n",
    "while True:\n",
    "    choices = [\"rock\",\"paper\",\"scissors\"]\n",
    "    if len(player_history) == 0:\n",
    "        computer = random.choice(choices)\n",
    "    else:\n",
    "        for key, value in player_history.items():\n",
    "                most_freq = max(player_history.values())\n",
    "                if player_history[key] == most_freq:\n",
    "                    most_freq_strategies.append(key)\n",
    "        expected_move = random.choice(most_freq_strategies)\n",
    "        computer = strategy_dict[expected_move]\n",
    "    player = None\n",
    "    while player not in choices: #show the same output if player enter something out of choices \n",
    "        player = input(\"rock, paper, or scissors?: \").lower()\n",
    "    \n",
    "    if player not in player_history:\n",
    "        player_history[player] = 1\n",
    "    else:\n",
    "        player_history[player] += 1\n",
    "\n",
    "        #All the conditions for the game between computer and player\n",
    "    if player == computer:\n",
    "        print(\"computer: \",computer)\n",
    "        print(\"player: \",player)\n",
    "        print(\"Draw!\")\n",
    "        game_count +=1\n",
    "\n",
    "    elif player == \"rock\":\n",
    "        if computer == \"paper\":\n",
    "            print(\"computer: \", computer)\n",
    "            print(\"player: \", player)\n",
    "            print(\"Paper covers Rock, so Paper beats Rock - You lose!\")\n",
    "            cpu_score +=1\n",
    "            game_count +=1\n",
    "        if computer == \"scissors\":\n",
    "            print(\"computer: \", computer)\n",
    "            print(\"player: \", player)\n",
    "            print(\"Rock smashes Scissors, so Rock beats Scissors - You win!\")\n",
    "            player_score +=1\n",
    "            game_count +=1\n",
    "\n",
    "    elif player == \"scissors\":\n",
    "        if computer == \"rock\":\n",
    "            print(\"computer: \", computer)\n",
    "            print(\"player: \", player)\n",
    "            print(\"Rock smashes Scissors, so Rock beats Scissors - You lose!\")\n",
    "            cpu_score +=1\n",
    "            game_count +=1\n",
    "        if computer == \"paper\":\n",
    "            print(\"computer: \", computer)\n",
    "            print(\"player: \", player)\n",
    "            print(\"Scissors can cut up paper, so Scissors beat Paper - You win!\")\n",
    "            player_score +=1\n",
    "            game_count +=1\n",
    "\n",
    "    elif player == \"paper\":\n",
    "        if computer == \"scissors\":\n",
    "            print(\"computer: \", computer)\n",
    "            print(\"player: \", player)\n",
    "            print(\"Scissors can cut up paper, so Scissors beat Paper - You lose!\")\n",
    "            cpu_score +=1\n",
    "            game_count +=1\n",
    "        if computer == \"rock\":\n",
    "            print(\"computer: \", computer)\n",
    "            print(\"player: \", player)\n",
    "            print(\"Paper covers Rock, so Paper beats Rock - You win!\")\n",
    "            player_score +=1\n",
    "            game_count +=1\n",
    "            \n",
    "    play_again=input(\"play again ? (yes/no)\").lower()\n",
    "    while play_again not in ['yes','no']: #show the same output if player enter something other than yes or no \n",
    "        play_again=input(\"play again ? (yes/no)\").lower()\n",
    "    if play_again==\"no\":\n",
    "        print()        \n",
    "        print(\"you have\",player_score,\"wins\")\n",
    "        print(\"computer has\",cpu_score,\"wins\")\n",
    "        print(\"total games played :\",game_count)\n",
    "\n",
    "        break\n",
    "print(\"\\n------------------\\n\")"
   ]
  },
  {
   "cell_type": "markdown",
   "id": "28d51c74",
   "metadata": {},
   "source": [
    "Question 2 - Voters in Florida"
   ]
  },
  {
   "cell_type": "code",
   "execution_count": 4,
   "id": "efd62e48",
   "metadata": {},
   "outputs": [
    {
     "name": "stdout",
     "output_type": "stream",
     "text": [
      "LAFAYETTE 1373 2672\n",
      "GLADES 2190 3110\n",
      "LIBERTY 720 3372\n",
      "UNION 2752 3579\n",
      "GILCHRIST 5789 3652\n",
      "FRANKLIN 2234 4319\n",
      "HOLMES 5282 4434\n",
      "GULF 4234 4521\n",
      "HARDEE 4859 4702\n",
      "HAMILTON 2154 4796\n",
      "DIXIE 3314 4839\n",
      "CALHOUN 2201 5324\n",
      "WASHINGTON 7101 5687\n",
      "JEFFERSON 2636 5802\n",
      "BAKER 6963 5813\n",
      "BRADFORD 6878 6533\n",
      "TAYLOR 3950 6915\n",
      "MADISON 2992 7158\n",
      "DESOTO 4870 7181\n",
      "OKEECHOBEE 7755 7756\n",
      "HENDRY 5862 7999\n",
      "WAKULLA 7374 8889\n",
      "LEVY 11665 9509\n",
      "WALTON 25609 10013\n",
      "SUWANNEE 10745 11126\n",
      "NASSAU 32958 14013\n",
      "COLUMBIA 15790 14797\n",
      "JACKSON 9626 15706\n",
      "MONROE 20602 17614\n",
      "HIGHLANDS 27100 19997\n",
      "PUTNAM 17067 20606\n",
      "GADSDEN 4372 22161\n",
      "SUMTER 47158 22977\n",
      "FLAGLER 30047 24734\n",
      "OKALOOSA 75154 25172\n",
      "SANTA ROSA 73627 26114\n",
      "MARTIN 53800 27358\n",
      "INDIAN RIVER 47794 28204\n",
      "CITRUS 46373 30440\n",
      "BAY 57456 30733\n",
      "CLAY 76584 31285\n",
      "CHARLOTTE 54421 35602\n",
      "ST. JOHNS 88385 39531\n",
      "HERNANDO 51254 42499\n",
      "COLLIER 100167 45511\n",
      "LAKE 93604 67237\n",
      "MANATEE 96063 67926\n",
      "ESCAMBIA 90265 70180\n",
      "OSCEOLA 44594 75657\n",
      "ST. LUCIE 59626 76163\n",
      "MARION 97306 76268\n",
      "ALACHUA 47329 77996\n",
      "SARASOTA 125872 89711\n",
      "SEMINOLE 107833 91686\n",
      "LEON 54554 103140\n",
      "PASCO 125305 104324\n",
      "LEE 180718 114633\n",
      "VOLUSIA 121402 124136\n",
      "BREVARD 167129 127435\n",
      "POLK 140619 143799\n",
      "PINELLAS 223077 221968\n",
      "DUVAL 210195 229501\n",
      "ORANGE 206174 303458\n",
      "HILLSBOROUGH 257436 314265\n",
      "PALM BEACH 245452 367236\n",
      "MIAMI-DADE 362161 539367\n",
      "BROWARD 249762 566185\n",
      "Total 4377713 4637026\n"
     ]
    }
   ],
   "source": [
    "import re\n",
    "'''Reads in the FloridaVoters.html file, cleans it, and outputs the county name and number\n",
    "of Republican and Democrat voters. The output is sorted by Democrat voters from least to greatest.'''\n",
    "fp = open('FloridaVoters.html', 'r')\n",
    "data = fp.read()\n",
    "org = re.findall('<td>+.+</td>' ,data)\n",
    "Heading = re.findall('<th>+.+</th>' ,data)\n",
    "c=[]\n",
    "l=0\n",
    "for i in (Heading):\n",
    "    if l<3:\n",
    "        c.append(i.lstrip('\\'<th>').rstrip('</th>\\''))\n",
    "        l+=1\n",
    "Table_Of_Voters=[]\n",
    "b=[]\n",
    "k=0\n",
    "for i in org:   \n",
    "    if k==0:\n",
    "        b.append(i.lstrip('\\'<td>').rstrip('</td>\\'')) #stripping the HTML tags\n",
    "    elif k<3: #taking only the first 3 columns\n",
    "        b.append(int(i.lstrip('\\'<td>').rstrip('</td>\\'').replace(',', ''))) #stripping the commas in numbers and casting as int\n",
    "    k=k+1\n",
    "    if k==6:\n",
    "        Table_Of_Voters.append(b)\n",
    "        b=[]\n",
    "        k=0\n",
    "Table_Of_Voters.sort(key=lambda row: (row[2])) #sorting on democrats\n",
    "for i in Table_Of_Voters: #Print\n",
    "    print(i[0], i[1], i[2])"
   ]
  },
  {
   "cell_type": "markdown",
   "id": "a9c8d803",
   "metadata": {},
   "source": [
    "Question 3 - Near-Duplicate Detection"
   ]
  },
  {
   "cell_type": "markdown",
   "id": "b86235c3",
   "metadata": {},
   "source": [
    "Part a."
   ]
  },
  {
   "cell_type": "code",
   "execution_count": 2,
   "id": "aee3d2dc",
   "metadata": {},
   "outputs": [
    {
     "data": {
      "text/plain": [
       "{'\"Santa Claus Is': 1,\n",
       " 'Claus Is Coming': 1,\n",
       " 'Is Coming To': 1,\n",
       " 'Coming To Town': 1,\n",
       " 'To Town #MTVHottest': 1,\n",
       " 'Town #MTVHottest Justin': 1,\n",
       " '#MTVHottest Justin Bieber\"': 1}"
      ]
     },
     "execution_count": 2,
     "metadata": {},
     "output_type": "execute_result"
    }
   ],
   "source": [
    "def moving_window(tweet):\n",
    "    '''Splits tweets into words, identifies all three word sequences, and builds a\n",
    "    dictionary of three word sequences.'''\n",
    "    words = tweet.split(\" \")\n",
    "    phrases=[]\n",
    "    for n in range(len(words)-2): #don't iterate over the entire range of words or else we run out of groups of three words\n",
    "        phrases.append(words[n]+\" \"+words[n+1]+\" \"+words[n+2])\n",
    "        n += 1\n",
    "    phrases_dict = {}\n",
    "    for phrase in phrases:\n",
    "        phrases_dict[phrase] = 1\n",
    "    return phrases_dict\n",
    "moving_window('\"Santa Claus Is Coming To Town #MTVHottest Justin Bieber\"')"
   ]
  },
  {
   "cell_type": "markdown",
   "id": "42bdfe56",
   "metadata": {},
   "source": [
    "Part b."
   ]
  },
  {
   "cell_type": "code",
   "execution_count": 3,
   "id": "25e213fa",
   "metadata": {},
   "outputs": [
    {
     "data": {
      "text/plain": [
       "0.6837634587578276"
      ]
     },
     "execution_count": 3,
     "metadata": {},
     "output_type": "execute_result"
    }
   ],
   "source": [
    "import math\n",
    "def cosine(dict1, dict2):\n",
    "    '''Calculates the cosine similarity score for two provided dictionaries.\n",
    "    Finds the number of three word sequences in common between the dictionaries\n",
    "    and divides by the square root of the product of the total number of three\n",
    "    word sequences in each dictionary.'''\n",
    "    matches=0\n",
    "    for key in list(dict1.keys()): #if the keys match between dictionaries, add 1 to the total # of matches\n",
    "        if key in list(dict2.keys()):\n",
    "            matches += 1\n",
    "    n1 = len(dict1.keys())\n",
    "    n2 = len(dict2.keys())\n",
    "    cosine_sim = matches/(math.sqrt(n1*n2))\n",
    "    return cosine_sim\n",
    "cosine(moving_window('\"Santa Claus Is Coming To Town #MTVHottest Justin Bieber\"'),\n",
    "           moving_window('\"Rt si te gusta Santa Claus Is Coming To Town #MTVHottest Justin Bieber\"'))"
   ]
  },
  {
   "cell_type": "markdown",
   "id": "c0c6263a",
   "metadata": {},
   "source": [
    "Part c."
   ]
  },
  {
   "cell_type": "code",
   "execution_count": 34,
   "id": "6aad837f",
   "metadata": {},
   "outputs": [
    {
     "name": "stdout",
     "output_type": "stream",
     "text": [
      "The tweet: RT @BuyBookstore: SPECIAL SECRET HEARTS: A Child's Introduction to Dementia and Pink Curls - A Santa ... - http://t.co/UWCdc8FA9a http://t.Â… is a near-duplicate of: SPECIAL SECRET HEARTS: A Child's Introduction to Dementia and Pink Curls - A Santa ... - http://t.co/UWCdc8FA9a http://t.co/meexKLGTKl. They have a similarity score of: 0.8838834764831844\n",
      "The tweet: \"RT @DrewFtDevonne_: Rt si te gusta Santa Claus Is Coming To Town #MTVHottest Justin Bieber\" is a near-duplicate of: \"Santa Claus Is Coming To Town #MTVHottest Justin Bieber\". They have a similarity score of: 0.628970902033151\n",
      "The tweet: \"Rt si te gusta Santa Claus Is Coming To Town #MTVHottest Justin Bieber\" is a near-duplicate of: \"Santa Claus Is Coming To Town #MTVHottest Justin Bieber\". They have a similarity score of: 0.6837634587578276\n",
      "The tweet: \"Rt si te gusta Santa Claus Is Coming To Town #MTVHottest Justin Bieber\" is a near-duplicate of: \"RT @DrewFtDevonne_: Rt si te gusta Santa Claus Is Coming To Town #MTVHottest Justin Bieber\". They have a similarity score of: 0.8362420100070908\n"
     ]
    }
   ],
   "source": [
    "'''Opens the santa.txt file and uses the moving_window() function to break\n",
    "tweets into three word sequences. Calculates the cosine similarity score between\n",
    "tweets and print a pair of tweets if their score is over 0.5.'''\n",
    "fp=open('santa.txt','r')\n",
    "prev_tweets=[]\n",
    "tweet=fp.readline()\n",
    "while tweet != '':\n",
    "    tweet=tweet.rstrip()\n",
    "    if len(prev_tweets) != 0:\n",
    "        for prev_tweet in prev_tweets:\n",
    "            if cosine(moving_window(tweet),moving_window(prev_tweet)) > 0.5:\n",
    "                print('The tweet: ' + tweet + ' is a near-duplicate of: ' + prev_tweet \n",
    "                      + '. They have a similarity score of: ' + str(cosine(moving_window(tweet),moving_window(prev_tweet))))  \n",
    "    prev_tweets.append(tweet)\n",
    "    tweet=fp.readline()\n",
    "fp.close()"
   ]
  },
  {
   "cell_type": "markdown",
   "id": "c13d520c",
   "metadata": {},
   "source": [
    "Question 4 - The Google of Quotes"
   ]
  },
  {
   "cell_type": "markdown",
   "id": "e845dbac",
   "metadata": {},
   "source": [
    "Part a."
   ]
  },
  {
   "cell_type": "code",
   "execution_count": 4,
   "id": "9b6c8aae",
   "metadata": {},
   "outputs": [
    {
     "data": {
      "text/plain": [
       "'How we spend our days is, of course, how we spend our lives. - Annie Dillard'"
      ]
     },
     "execution_count": 4,
     "metadata": {},
     "output_type": "execute_result"
    }
   ],
   "source": [
    "'''Opens the quotes.txt file and splits at each \\n character. Puts together every two chunks of text\n",
    "so that the quotes are in quote-speaker form.'''\n",
    "file=open('quotes.txt','r')\n",
    "quotes=[]\n",
    "prev_line=''\n",
    "line=file.readline()\n",
    "while line != '':\n",
    "    line=line.rstrip()\n",
    "    line=line.split('.\\n') #splitting at \\n captures multi-line quotes together\n",
    "    if len(prev_line)!=0:\n",
    "        final_line=prev_line[0]+' - '+line[0]\n",
    "        quotes.append(final_line)\n",
    "        prev_line='' #once add together quote and speaker, set prev_line to a blank to restart process\n",
    "    else:\n",
    "        prev_line=line #set prev_line=line so that the quote line just read in is matched to speaker line about to be read in\n",
    "    line=file.readline()\n",
    "file.close()\n",
    "quotes[0]"
   ]
  },
  {
   "cell_type": "markdown",
   "id": "948fd166",
   "metadata": {},
   "source": [
    "Part b."
   ]
  },
  {
   "cell_type": "code",
   "execution_count": 5,
   "id": "57fba066",
   "metadata": {},
   "outputs": [
    {
     "data": {
      "text/plain": [
       "['the',\n",
       " 'heart',\n",
       " 'has',\n",
       " 'its',\n",
       " 'reasons',\n",
       " 'of',\n",
       " 'which',\n",
       " 'the',\n",
       " 'mind',\n",
       " 'knows',\n",
       " 'nothing',\n",
       " 'blaise',\n",
       " 'pascal']"
      ]
     },
     "execution_count": 5,
     "metadata": {},
     "output_type": "execute_result"
    }
   ],
   "source": [
    "'''Splits each quote into individual words.'''\n",
    "import re\n",
    "def get_words(quote):\n",
    "    words = re.split('[^\\w\\d_`]',quote.lower()) #splits at ` character too to capture contractions as whole words\n",
    "    new_words=[]\n",
    "    for word in words: #remove any blanks that are being counted as \"words\" from process above\n",
    "        if word!='':\n",
    "            new_words.append(word)\n",
    "    return new_words #return non-blank words\n",
    "get_words('The heart has its reasons, of which the mind knows nothing. - Blaise Pascal')"
   ]
  },
  {
   "cell_type": "markdown",
   "id": "8c5f23ae",
   "metadata": {},
   "source": [
    "Part c."
   ]
  },
  {
   "cell_type": "code",
   "execution_count": 37,
   "id": "2db8bb4b",
   "metadata": {},
   "outputs": [
    {
     "data": {
      "text/plain": [
       "{'the': 2,\n",
       " 'heart': 1,\n",
       " 'has': 1,\n",
       " 'its': 1,\n",
       " 'reasons': 1,\n",
       " 'of': 1,\n",
       " 'which': 1,\n",
       " 'mind': 1,\n",
       " 'knows': 1,\n",
       " 'nothing': 1,\n",
       " 'blaise': 1,\n",
       " 'pascal': 1}"
      ]
     },
     "execution_count": 37,
     "metadata": {},
     "output_type": "execute_result"
    }
   ],
   "source": [
    "'''Creates the postings list dictionary where each key is a quote and the values are dictionaries\n",
    "themselves with each unique word in the quote as a key and the frequency of the word in the quote as the value.'''\n",
    "postings_list_dict={}\n",
    "wordcount_dict={}\n",
    "for quote in quotes:\n",
    "    words=get_words(quote)\n",
    "    for word in words:\n",
    "        if word in wordcount_dict: #if the word exists in dictionary add 1 to count, if not, create a key and set value to 1\n",
    "            wordcount_dict[word] += 1\n",
    "        else:\n",
    "            wordcount_dict[word] = 1\n",
    "    postings_list_dict[quote] = wordcount_dict\n",
    "    wordcount_dict={}\n",
    "postings_list_dict['The heart has its reasons, of which the mind knows nothing. - Blaise Pascal']"
   ]
  },
  {
   "cell_type": "markdown",
   "id": "f371d641",
   "metadata": {},
   "source": [
    "Part d."
   ]
  },
  {
   "cell_type": "code",
   "execution_count": 39,
   "id": "e7f750dc",
   "metadata": {},
   "outputs": [
    {
     "data": {
      "text/plain": [
       "{'An actor is at most a poet and at least an entertainer. - Marlon Brando': 1}"
      ]
     },
     "execution_count": 39,
     "metadata": {},
     "output_type": "execute_result"
    }
   ],
   "source": [
    "'''Creates the reverse postings list dictionary which has each unique word among\n",
    "all quotes as the keys and the values again as dictionaries with the keys being\n",
    "quotes that the word appears in and the values being how many times the word appears\n",
    "in that particular quote.'''\n",
    "total_words=[]\n",
    "reverse_postings_list_dict={}\n",
    "for wordcount_dict in postings_list_dict.values():\n",
    "    for word in wordcount_dict.keys():\n",
    "        if word not in total_words:\n",
    "            total_words.append(word) #total_words collects all unique words across all quotes to be used as keys\n",
    "for quote in quotes:\n",
    "    words=get_words(quote)\n",
    "    for word in total_words:\n",
    "        if word in words:\n",
    "            if word not in reverse_postings_list_dict: #if word doesn't exist in dictionary, add key, if it does, add to values\n",
    "                reverse_postings_list_dict[word] = {quote:words.count(word)}\n",
    "            else:\n",
    "                reverse_postings_list_dict[word].update({quote:words.count(word)})\n",
    "            reverse_postings_list_dict\n",
    "reverse_postings_list_dict['entertainer']"
   ]
  },
  {
   "cell_type": "markdown",
   "id": "9ac27e0d",
   "metadata": {},
   "source": [
    "Part e."
   ]
  },
  {
   "cell_type": "code",
   "execution_count": 40,
   "id": "d8bb517d",
   "metadata": {},
   "outputs": [
    {
     "data": {
      "text/plain": [
       "3.3933584753025405"
      ]
     },
     "execution_count": 40,
     "metadata": {},
     "output_type": "execute_result"
    }
   ],
   "source": [
    "import math\n",
    "def tf_idf(word,quote):\n",
    "    '''Gets the TF-IDF score for a given word and quote. The TF score\n",
    "    is computed by how many times the word appears in the quote divided\n",
    "    by the most frequent word in the quote. The IDF score is the log of the\n",
    "    total number of quotes divided by the number of quotes that the word\n",
    "    appears in. The TF-IDF score is the product of TF and IDF.'''\n",
    "    if quote in reverse_postings_list_dict[word]:\n",
    "        w = reverse_postings_list_dict[word][quote] #see how many times the word appears in the quote\n",
    "        q = max(postings_list_dict[quote].values()) #see what the most frequent word in the quote is\n",
    "        tf = w/q\n",
    "    idf = math.log(len(quotes)/len(reverse_postings_list_dict[word]))\n",
    "    return tf*idf\n",
    "tf_idf('entertainer','An actor is at most a poet and at least an entertainer. - Marlon Brando')"
   ]
  },
  {
   "cell_type": "markdown",
   "id": "6e590f23",
   "metadata": {},
   "source": [
    "Part f."
   ]
  },
  {
   "cell_type": "code",
   "execution_count": 41,
   "id": "8e967435",
   "metadata": {},
   "outputs": [
    {
     "data": {
      "text/plain": [
       "{'An actor is at most a poet and at least an entertainer. - Marlon Brando': 3.3933584753025405}"
      ]
     },
     "execution_count": 41,
     "metadata": {},
     "output_type": "execute_result"
    }
   ],
   "source": [
    "def one_word_search(word):\n",
    "    '''Creates a dictionary where the keys are all quotes that contain\n",
    "    the provided word and the values are the TF-IDF score for the word and quote.'''\n",
    "    one_word_results = {}\n",
    "    relevant_quotes = reverse_postings_list_dict[word].keys()\n",
    "    for quote in relevant_quotes:\n",
    "        one_word_results[quote] = tf_idf(word,quote)\n",
    "    return one_word_results\n",
    "one_word_search('entertainer')"
   ]
  },
  {
   "cell_type": "markdown",
   "id": "3752cb23",
   "metadata": {},
   "source": [
    "Part g."
   ]
  },
  {
   "cell_type": "code",
   "execution_count": 42,
   "id": "4b1319a0",
   "metadata": {},
   "outputs": [
    {
     "data": {
      "text/plain": [
       "{'The heart has its reasons, of which the mind knows nothing. - Blaise Pascal': 4.281399303556952,\n",
       " 'It is necessary for the welfare of society that genius should be privileged to utter sedition, to blaspheme, to outrage good taste, to corrupt the youthful mind, and generally to scandalize one`s uncles. - George Bernard Shaw': 0.8157333499005741,\n",
       " 'In every man`s heart there is a secret nerve that answers to the vibrations of beauty. - Christopher Morley': 4.484131857611035,\n",
       " 'Everybody can be great... because anybody can serve. You don`t have to have a college degree to serve. You don`t have to make your subject and verb agree to serve. You only need a heart full of grace. A soul generated by love. - Martin Luther King Jr.': 1.1210329644027588,\n",
       " 'It is always thus, impelled by a state of mind which is destined not to last, that we make our irrevocable decisions. - Marcel Proust': 2.0393333747514353,\n",
       " 'Love anything and your heart will be wrung and possibly broken. If you want to make sure of keeping it intact you must give it to no one, not even an animal. Wrap it carefully round with hobbies and little luxuries; avoid all entanglements. Lock it up safe in the casket or coffin of your selfishness. But in that casket, safe, dark, motionless, airless, it will change. It will not be broken; it will become unbreakable, impenetrable, irredeemable. To love is to be vulnerable. - C.S. Lewis': 0.640590265373005,\n",
       " 'We all wish to be judged by our peers, by the men `after our own heart.` Only they really know our mind and only they judge it by standards we fully acknowledge. Theirs is the praise we really covet and the blame we really dread. The little pockets of early Chrstians survived because they cared exclusively for the love of `the bretheren` and stopped their ears to the opinion of the Pagan society around them. But a circle of criminals, cranks, or perverts survives in just the same way; by becoming deaf to the opinion of the outer world, by discounting it as the chatter of outsiders who `don`t understand,` of the `conventional,` the `bourgeois,` the `Establishment,` of prigs, prudes, and humbugs. - C.S. Lewis': 0.6116284719367076,\n",
       " 'A mind that is stretched by a new experience can never go back to its old dimensions. - Oliver Wendell Holmes': 2.0393333747514353,\n",
       " 'The mind of the thoroughly well-informed man is a dreadful thing. It is like a bric-à-brac shop, all monsters and dust, with everything priced above its proper value. - Oscar Wilde': 2.0393333747514353,\n",
       " 'I will honor Christmas in my heart, and try to keep it all the year. - Charles Dickens': 4.484131857611035,\n",
       " 'Show me your hands. Do they have scars from giving? Show me your feet. Are they wounded in service? Show me your heart. Have you left a place for divine love? - Fulton J. Sheen': 1.4947106192036783,\n",
       " '`Tis the business of little minds to shrink, but he whose heart is firm, and whose conscience approves his conduct, will pursue his principles unto death. - Thomas Paine': 2.2420659288055176,\n",
       " 'No passion so effectually robs the mind of all its powers of acting and reasoning as fear. - Edmund Burke': 2.0393333747514353,\n",
       " 'Too many poets delude themselves by thinking that the mind is dangerous and must be left out. Well, the mind is dangerous and must be left in. - Robert Frost': 4.078666749502871,\n",
       " 'It is your mind that creates this world. - Siddhartha Buddha': 4.078666749502871,\n",
       " 'As every divided kingdom falls, so every mind divided between many studies confounds and saps itself. - Leonardo da Vinci': 2.0393333747514353,\n",
       " 'Everything that used to be a sin is now a disease. - Bill Maher': 3.3933584753025405,\n",
       " 'My mind is my own church. - Thomas Paine': 2.0393333747514353,\n",
       " 'The best and most beautiful things in the world cannot be seen or even touched. They must be felt with the heart. - Helen Keller': 1.4947106192036783,\n",
       " 'What we are today comes from our thoughts of yesterday and our present thoughts build our life tomorrow. Our life is the creation of our mind. - Siddhartha Buddha': 0.8157333499005741,\n",
       " 'Beauty is ever to the lonely mind a shadow fleeting; she is never plain. She is a visitor who leaves behind the gift of grief, the souvenir of pain. - Christopher Morley': 1.3595555831676234,\n",
       " 'What a man`s mind can create, man`s character can control. - Thomas Edison': 2.0393333747514353,\n",
       " 'The mystic chords of memory, stretching from every battlefield and patriot grave to every living heart and hearthstone all over this broad land, will yet swell the chorus of the Union, when again touched, as surely they will be, by the better angels of our nature. - Abraham Lincoln': 1.1210329644027588,\n",
       " 'Games lubricate the body and the mind. - Benjamin Franklin': 2.0393333747514353}"
      ]
     },
     "execution_count": 42,
     "metadata": {},
     "output_type": "execute_result"
    }
   ],
   "source": [
    "def multi_word_search(word_list):\n",
    "    '''Creates a dictionary where the keys are all quotes that contain one\n",
    "    or more words provided in a list and the values are the sum of the\n",
    "    TF-IDF scores for the word/s and quote.'''\n",
    "    multi_word_results = {}\n",
    "    for quote in quotes:\n",
    "        tf_idf_sum = 0 \n",
    "        for word in word_list:\n",
    "            if word in get_words(quote):\n",
    "                tf_idf_sum += tf_idf(word,quote)\n",
    "                multi_word_results[quote] = tf_idf_sum\n",
    "    return multi_word_results\n",
    "multi_word_search(['heart','mind','disease'])"
   ]
  }
 ],
 "metadata": {
  "kernelspec": {
   "display_name": "Python 3 (ipykernel)",
   "language": "python",
   "name": "python3"
  },
  "language_info": {
   "codemirror_mode": {
    "name": "ipython",
    "version": 3
   },
   "file_extension": ".py",
   "mimetype": "text/x-python",
   "name": "python",
   "nbconvert_exporter": "python",
   "pygments_lexer": "ipython3",
   "version": "3.9.12"
  }
 },
 "nbformat": 4,
 "nbformat_minor": 5
}
